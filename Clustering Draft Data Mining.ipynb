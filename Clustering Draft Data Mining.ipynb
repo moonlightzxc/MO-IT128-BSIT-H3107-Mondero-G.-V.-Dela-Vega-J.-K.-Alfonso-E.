{
 "cells": [
  {
   "cell_type": "code",
   "execution_count": 29,
   "id": "7939da26-908d-4be2-895c-8532c0540a7a",
   "metadata": {},
   "outputs": [],
   "source": [
    "# Import Libraries\n",
    "import pandas as pd # Library for data manipulation and analysis\n",
    "import numpy as np # Library for numerical operations\n",
    "import matplotlib.pyplot as plt # Library for data visualization\n",
    "from sklearn.preprocessing import StandardScaler, OneHotEncoder # Standardizes numerical features and converts categorical feature\n",
    "from sklearn.decomposition import PCA # Reduces the number of features \n",
    "from sklearn.cluster import KMeans # Group similar data points into k clusters\n",
    "from sklearn.metrics import silhouette_score # Measures how well datas fit within their assigned clusters"
   ]
  },
  {
   "cell_type": "code",
   "execution_count": 31,
   "id": "8017b027-7b41-4cdb-b020-ffc522cb65a3",
   "metadata": {},
   "outputs": [
    {
     "data": {
      "text/plain": [
       "(   Product_ID                   Product_Name  Product_Type_Credit Card  \\\n",
       " 0           1           Platinum Credit Card                      True   \n",
       " 1           2           Gold Savings Account                     False   \n",
       " 2           3  High-Yield Investment Account                     False   \n",
       " 3           4                  Mortgage Loan                     False   \n",
       " 4           5                      Auto Loan                     False   \n",
       " \n",
       "    Product_Type_Investment  Product_Type_Loan  Product_Type_Savings Account  \\\n",
       " 0                    False              False                         False   \n",
       " 1                    False              False                          True   \n",
       " 2                     True              False                         False   \n",
       " 3                    False               True                         False   \n",
       " 4                    False               True                         False   \n",
       " \n",
       "    Risk_Level_High  Risk_Level_Low  Risk_Level_Medium  \\\n",
       " 0            False           False               True   \n",
       " 1            False            True              False   \n",
       " 2             True           False              False   \n",
       " 3            False           False               True   \n",
       " 4            False           False               True   \n",
       " \n",
       "    Target_Income_Group_High  Target_Income_Group_Low  \\\n",
       " 0                     False                    False   \n",
       " 1                     False                     True   \n",
       " 2                      True                    False   \n",
       " 3                      True                    False   \n",
       " 4                     False                    False   \n",
       " \n",
       "    Target_Income_Group_Medium  Primary_Product  Customer_Dependency_Index  \\\n",
       " 0                        True      Credit Card                          2   \n",
       " 1                       False  Savings Account                          0   \n",
       " 2                       False       Investment                          0   \n",
       " 3                       False             Loan                          1   \n",
       " 4                        True             Loan                          1   \n",
       " \n",
       "   Income_Group  Income_Product_Matching_Score  \n",
       " 0       Medium                          False  \n",
       " 1          Low                          False  \n",
       " 2         High                           True  \n",
       " 3         High                           True  \n",
       " 4       Medium                          False  ,\n",
       "    Customer_ID  Recency  Frequency  Monetary_Value  \\\n",
       " 0            1     26.0        6.0         16836.0   \n",
       " 1            2     67.0        2.0          4907.0   \n",
       " 2            3    150.0        1.0          1538.0   \n",
       " 3            4     28.0        2.0          8295.0   \n",
       " 4            5      1.0        5.0         14798.0   \n",
       " \n",
       "    Transaction_Amount_Variability  Days_Since_First_Transaction  \\\n",
       " 0                        0.670928                         180.0   \n",
       " 1                        0.161606                         104.0   \n",
       " 2                        0.000000                           0.0   \n",
       " 3                        0.141893                         158.0   \n",
       " 4                        0.419043                         157.0   \n",
       " \n",
       "    Avg_Transaction_Gap  Is_Weekend  Frequent_Large_Spender  \n",
       " 0                 30.0    0.166667                     0.0  \n",
       " 1                 52.0    0.500000                     0.0  \n",
       " 2                  0.0    0.000000                     0.0  \n",
       " 3                 79.0    0.500000                     0.0  \n",
       " 4                 31.4    0.400000                     0.0  ,\n",
       "    Customer_ID  Frequency  Satisfaction_Variability  Monetary_Engagement  \\\n",
       " 0            1          2                  0.176471             8.500000   \n",
       " 1            2          3                  0.435143             4.333333   \n",
       " 2            3          3                  0.203961             8.333333   \n",
       " 3            4          6                  0.344176             5.500000   \n",
       " 4            5          9                  0.293610             6.444444   \n",
       " \n",
       "   Satisfaction_Category Recommendation_Category  \n",
       " 0             Excellent                    High  \n",
       " 1        Unsatisfactory                     Low  \n",
       " 2             Excellent                     Low  \n",
       " 3          Good Service                     Low  \n",
       " 4        Very satisfied                  Medium  )"
      ]
     },
     "execution_count": 31,
     "metadata": {},
     "output_type": "execute_result"
    }
   ],
   "source": [
    "# Load the datasets\n",
    "product_offering_df = pd.read_csv(\"/Users/gillianmondero/cleaned_product_offering_data.csv\")\n",
    "customer_transactions_df = pd.read_csv(\"/Users/gillianmondero/feature_engineered_transactions.csv\")\n",
    "customer_feedback_df = pd.read_csv(\"/Users/gillianmondero/feature_engineered_feedback.csv\")\n",
    "\n",
    "# Display the first few rows of each dataset\n",
    "product_offering_df.head(), customer_transactions_df.head(), customer_feedback_df.head()"
   ]
  },
  {
   "cell_type": "code",
   "execution_count": 33,
   "id": "86faeb37-fd8b-453d-b714-709f7d189dec",
   "metadata": {},
   "outputs": [
    {
     "name": "stdout",
     "output_type": "stream",
     "text": [
      "Merged Transactions and Feedback:\n",
      "      Customer_ID  Recency  Frequency_x  Monetary_Value  \\\n",
      "0               1     26.0          6.0         16836.0   \n",
      "1               1     26.0          6.0         16836.0   \n",
      "2               2     67.0          2.0          4907.0   \n",
      "3               2     67.0          2.0          4907.0   \n",
      "4               2     67.0          2.0          4907.0   \n",
      "...           ...      ...          ...             ...   \n",
      "4135          999     14.0          9.0         23962.0   \n",
      "4136          999     14.0          9.0         23962.0   \n",
      "4137         1000     37.0          6.0          9652.0   \n",
      "4138         1000     37.0          6.0          9652.0   \n",
      "4139         1000     37.0          6.0          9652.0   \n",
      "\n",
      "      Transaction_Amount_Variability  Days_Since_First_Transaction  \\\n",
      "0                           0.670928                         180.0   \n",
      "1                           0.670928                         180.0   \n",
      "2                           0.161606                         104.0   \n",
      "3                           0.161606                         104.0   \n",
      "4                           0.161606                         104.0   \n",
      "...                              ...                           ...   \n",
      "4135                        0.446405                         178.0   \n",
      "4136                        0.446405                         178.0   \n",
      "4137                        0.450036                         120.0   \n",
      "4138                        0.450036                         120.0   \n",
      "4139                        0.450036                         120.0   \n",
      "\n",
      "      Avg_Transaction_Gap  Is_Weekend  Frequent_Large_Spender  Frequency_y  \\\n",
      "0               30.000000    0.166667                     0.0            2   \n",
      "1               30.000000    0.166667                     0.0            2   \n",
      "2               52.000000    0.500000                     0.0            3   \n",
      "3               52.000000    0.500000                     0.0            3   \n",
      "4               52.000000    0.500000                     0.0            3   \n",
      "...                   ...         ...                     ...          ...   \n",
      "4135            19.777778    0.222222                     0.0            5   \n",
      "4136            19.777778    0.222222                     0.0            5   \n",
      "4137            20.000000    0.166667                     0.0            4   \n",
      "4138            20.000000    0.166667                     0.0            4   \n",
      "4139            20.000000    0.166667                     0.0            4   \n",
      "\n",
      "      Satisfaction_Variability  Monetary_Engagement Satisfaction_Category  \\\n",
      "0                     0.176471             8.500000             Excellent   \n",
      "1                     0.176471             8.500000          Good Service   \n",
      "2                     0.435143             4.333333        Unsatisfactory   \n",
      "3                     0.435143             4.333333          Good Service   \n",
      "4                     0.435143             4.333333        Unsatisfactory   \n",
      "...                        ...                  ...                   ...   \n",
      "4135                  0.299942             6.800000          Good Service   \n",
      "4136                  0.299942             6.800000     Needs improvement   \n",
      "4137                  0.348005             4.250000     Needs improvement   \n",
      "4138                  0.348005             4.250000          Good Service   \n",
      "4139                  0.348005             4.250000        Unsatisfactory   \n",
      "\n",
      "     Recommendation_Category  \n",
      "0                       High  \n",
      "1                       High  \n",
      "2                        Low  \n",
      "3                     Medium  \n",
      "4                     Medium  \n",
      "...                      ...  \n",
      "4135                  Medium  \n",
      "4136                     Low  \n",
      "4137                    High  \n",
      "4138                  Medium  \n",
      "4139                    High  \n",
      "\n",
      "[4140 rows x 14 columns]\n"
     ]
    }
   ],
   "source": [
    "# Merge customer transactions with customer feedback using Customer_ID\n",
    "merged_df = customer_transactions_df.merge(customer_feedback_df, on=\"Customer_ID\", how=\"left\")\n",
    "\n",
    "# Display the merged dataset \n",
    "print(\"Merged Transactions and Feedback:\")\n",
    "print(merged_df)  "
   ]
  },
  {
   "cell_type": "code",
   "execution_count": 35,
   "id": "021bb67a-7b73-4f40-82d2-c3d6975bf06b",
   "metadata": {},
   "outputs": [
    {
     "name": "stdout",
     "output_type": "stream",
     "text": [
      "DataFrame after dropping unnecessary column:\n",
      "   Recency  Frequency_x  Monetary_Value  Transaction_Amount_Variability  \\\n",
      "0     26.0          6.0         16836.0                        0.670928   \n",
      "1     26.0          6.0         16836.0                        0.670928   \n",
      "2     67.0          2.0          4907.0                        0.161606   \n",
      "3     67.0          2.0          4907.0                        0.161606   \n",
      "4     67.0          2.0          4907.0                        0.161606   \n",
      "\n",
      "   Days_Since_First_Transaction  Avg_Transaction_Gap  Is_Weekend  \\\n",
      "0                         180.0                 30.0    0.166667   \n",
      "1                         180.0                 30.0    0.166667   \n",
      "2                         104.0                 52.0    0.500000   \n",
      "3                         104.0                 52.0    0.500000   \n",
      "4                         104.0                 52.0    0.500000   \n",
      "\n",
      "   Frequent_Large_Spender  Frequency_y  Satisfaction_Variability  \\\n",
      "0                     0.0            2                  0.176471   \n",
      "1                     0.0            2                  0.176471   \n",
      "2                     0.0            3                  0.435143   \n",
      "3                     0.0            3                  0.435143   \n",
      "4                     0.0            3                  0.435143   \n",
      "\n",
      "   Monetary_Engagement Satisfaction_Category Recommendation_Category  \n",
      "0             8.500000             Excellent                    High  \n",
      "1             8.500000          Good Service                    High  \n",
      "2             4.333333        Unsatisfactory                     Low  \n",
      "3             4.333333          Good Service                  Medium  \n",
      "4             4.333333        Unsatisfactory                  Medium  \n"
     ]
    }
   ],
   "source": [
    "# Drop unnecessary column\n",
    "merged_df.drop(columns=[\"Customer_ID\"], inplace=True)\n",
    "print(\"DataFrame after dropping unnecessary column:\")\n",
    "print(merged_df.head())"
   ]
  },
  {
   "cell_type": "code",
   "execution_count": 37,
   "id": "905ac533-0681-4e46-b0d4-ee9cef248c28",
   "metadata": {},
   "outputs": [
    {
     "name": "stdout",
     "output_type": "stream",
     "text": [
      "Numerical Features: Index(['Recency', 'Frequency_x', 'Monetary_Value',\n",
      "       'Transaction_Amount_Variability', 'Days_Since_First_Transaction',\n",
      "       'Avg_Transaction_Gap', 'Is_Weekend', 'Frequent_Large_Spender',\n",
      "       'Frequency_y', 'Satisfaction_Variability', 'Monetary_Engagement'],\n",
      "      dtype='object')\n",
      "Categorical Features: Index(['Satisfaction_Category', 'Recommendation_Category'], dtype='object')\n"
     ]
    }
   ],
   "source": [
    "# Separate numerical and categorical features\n",
    "num_features = merged_df.select_dtypes(include=['number']).columns\n",
    "cat_features = merged_df.select_dtypes(include=['object']).columns\n",
    "print(\"Numerical Features:\", num_features)\n",
    "print(\"Categorical Features:\", cat_features)"
   ]
  },
  {
   "cell_type": "code",
   "execution_count": 39,
   "id": "ca19c54b-92f5-4e9c-92b6-8562ee950de7",
   "metadata": {},
   "outputs": [
    {
     "name": "stdout",
     "output_type": "stream",
     "text": [
      "Scaled Numerical Features:\n",
      "[[-0.34270167  0.44057672  0.6728921   0.77322704  1.00284131  0.19814291\n",
      "  -0.52574324 -0.31281309 -1.81551537 -1.71671578  2.32538611]\n",
      " [-0.34270167  0.44057672  0.6728921   0.77322704  1.00284131  0.19814291\n",
      "  -0.52574324 -0.31281309 -1.81551537 -1.71671578  2.32538611]\n",
      " [ 0.78666291 -1.37886231 -1.1780829  -1.44418376 -0.49348107  1.84309621\n",
      "   0.95072573 -0.31281309 -1.31235339 -0.06941377 -1.06346012]\n",
      " [ 0.78666291 -1.37886231 -1.1780829  -1.44418376 -0.49348107  1.84309621\n",
      "   0.95072573 -0.31281309 -1.31235339 -0.06941377 -1.06346012]\n",
      " [ 0.78666291 -1.37886231 -1.1780829  -1.44418376 -0.49348107  1.84309621\n",
      "   0.95072573 -0.31281309 -1.31235339 -0.06941377 -1.06346012]]\n"
     ]
    }
   ],
   "source": [
    "# Standardize numerical features\n",
    "scaler = StandardScaler()\n",
    "scaled_features = scaler.fit_transform(merged_df[num_features])\n",
    "print(\"Scaled Numerical Features:\")\n",
    "print(scaled_features[:5])"
   ]
  },
  {
   "cell_type": "code",
   "execution_count": 41,
   "id": "623e9609-b549-4be3-b07f-f53626b2506f",
   "metadata": {},
   "outputs": [
    {
     "name": "stdout",
     "output_type": "stream",
     "text": [
      "Encoded Categorical Features:\n",
      "[[0. 0. 0. 0. 0. 0.]\n",
      " [1. 0. 0. 0. 0. 0.]\n",
      " [0. 0. 1. 0. 1. 0.]\n",
      " [1. 0. 0. 0. 0. 1.]\n",
      " [0. 0. 1. 0. 0. 1.]]\n"
     ]
    }
   ],
   "source": [
    "# Encode categorical features\n",
    "encoder = OneHotEncoder(drop='first', sparse_output=False)\n",
    "encoded_categorical = encoder.fit_transform(merged_df[cat_features])\n",
    "print(\"Encoded Categorical Features:\")\n",
    "print(encoded_categorical[:5])"
   ]
  },
  {
   "cell_type": "code",
   "execution_count": 43,
   "id": "bcbba3e8-2fb6-4447-86b7-f08664bc5771",
   "metadata": {},
   "outputs": [
    {
     "name": "stdout",
     "output_type": "stream",
     "text": [
      "Final Combined Dataset:\n",
      "[[-0.34270167  0.44057672  0.6728921   0.77322704  1.00284131  0.19814291\n",
      "  -0.52574324 -0.31281309 -1.81551537 -1.71671578  2.32538611  0.\n",
      "   0.          0.          0.          0.          0.        ]\n",
      " [-0.34270167  0.44057672  0.6728921   0.77322704  1.00284131  0.19814291\n",
      "  -0.52574324 -0.31281309 -1.81551537 -1.71671578  2.32538611  1.\n",
      "   0.          0.          0.          0.          0.        ]\n",
      " [ 0.78666291 -1.37886231 -1.1780829  -1.44418376 -0.49348107  1.84309621\n",
      "   0.95072573 -0.31281309 -1.31235339 -0.06941377 -1.06346012  0.\n",
      "   0.          1.          0.          1.          0.        ]\n",
      " [ 0.78666291 -1.37886231 -1.1780829  -1.44418376 -0.49348107  1.84309621\n",
      "   0.95072573 -0.31281309 -1.31235339 -0.06941377 -1.06346012  1.\n",
      "   0.          0.          0.          0.          1.        ]\n",
      " [ 0.78666291 -1.37886231 -1.1780829  -1.44418376 -0.49348107  1.84309621\n",
      "   0.95072573 -0.31281309 -1.31235339 -0.06941377 -1.06346012  0.\n",
      "   0.          1.          0.          0.          1.        ]]\n"
     ]
    }
   ],
   "source": [
    "# Combine processed features\n",
    "final_dataset = np.hstack([scaled_features, encoded_categorical])\n",
    "print(\"Final Combined Dataset:\")\n",
    "print(final_dataset[:5])"
   ]
  },
  {
   "cell_type": "code",
   "execution_count": 45,
   "id": "edd46860-906f-4e34-a91c-0df32e2bee2b",
   "metadata": {},
   "outputs": [
    {
     "name": "stdout",
     "output_type": "stream",
     "text": [
      "Final Dataset after PCA:\n",
      "[[ 1.43517639  1.24308424 -2.81689632 -0.79351569 -1.12494948  0.41406253\n",
      "   0.04701354  0.19559373  0.76597714 -0.17811656  0.18876216 -0.05164181]\n",
      " [ 1.43715742  1.26496566 -2.85051633 -0.79801233 -1.1112113   0.41666512\n",
      "   0.03006324  0.15581572  0.65535089 -0.18389794 -0.49947988 -0.56440078]\n",
      " [-1.97107877  1.33565286  0.90664965  1.05210294 -0.44321471  1.94691811\n",
      "  -0.91192346  0.94162783 -0.23099677  0.75452601  0.58705364 -0.36455969]\n",
      " [-1.96288197  1.40411889  0.77240319  1.03063075 -0.40160321  1.92577153\n",
      "  -0.97280833  0.87748067 -0.51539826 -0.6585683  -0.76823805 -0.43691012]\n",
      " [-1.97387672  1.33825089  0.91644594  1.04326174 -0.46223502  1.95204329\n",
      "  -0.94484641  0.94101945 -0.4101337  -0.64507981  0.61824716 -0.37005164]]\n"
     ]
    }
   ],
   "source": [
    "# Apply PCA to reduce dimensionality (keeping 95% variance)\n",
    "pca = PCA(n_components=0.95)\n",
    "final_dataset_pca = pca.fit_transform(final_dataset)\n",
    "print(\"Final Dataset after PCA:\")\n",
    "print(final_dataset_pca[:5])"
   ]
  },
  {
   "cell_type": "code",
   "execution_count": 47,
   "id": "cca05f24-a9d7-4843-8ac4-d0a9d4f90067",
   "metadata": {},
   "outputs": [
    {
     "name": "stdout",
     "output_type": "stream",
     "text": [
      "K=1, Inertia=48349.75092077571\n",
      "K=2, Inertia=41054.05883922508\n",
      "K=3, Inertia=36431.39387718436\n",
      "K=4, Inertia=33108.47128751722\n",
      "K=5, Inertia=30560.82357496228\n",
      "K=6, Inertia=29084.075564691906\n",
      "K=7, Inertia=27931.104393522983\n",
      "K=8, Inertia=26865.328970756294\n",
      "K=9, Inertia=26049.882922788973\n",
      "K=10, Inertia=25226.14382804555\n",
      "Final Inertia Values: [48349.75092077571, 41054.05883922508, 36431.39387718436, 33108.47128751722, 30560.82357496228, 29084.075564691906, 27931.104393522983, 26865.328970756294, 26049.882922788973, 25226.14382804555]\n"
     ]
    }
   ],
   "source": [
    "# Finding optimal K using the Elbow Method\n",
    "inertia = []\n",
    "K_range = range(1, 11)\n",
    "for k in K_range:\n",
    "    kmeans = KMeans(n_clusters=k, random_state=42, n_init=10)\n",
    "    kmeans.fit(final_dataset_pca)\n",
    "    inertia.append(kmeans.inertia_)\n",
    "    print(f\"K={k}, Inertia={kmeans.inertia_}\")\n",
    "\n",
    "# Debugging print to ensure inertia is correctly populated\n",
    "print(\"Final Inertia Values:\", inertia)"
   ]
  },
  {
   "cell_type": "code",
   "execution_count": 48,
   "id": "94b5d097-9796-4d45-8d3f-bb52a5db4901",
   "metadata": {},
   "outputs": [
    {
     "data": {
      "image/png": "[encoded data removed]",
      "text/plain": [
       "<Figure size 800x500 with 1 Axes>"
      ]
     },
     "metadata": {},
     "output_type": "display_data"
    }
   ],
   "source": [
    "# Fix potential shape mismatch issue\n",
    "if len(inertia) == len(K_range):\n",
    "    # Plot the Elbow Method\n",
    "    plt.figure(figsize=(8, 5))\n",
    "    plt.plot(K_range, inertia, marker='o', linestyle='-')\n",
    "    plt.xlabel('Number of Clusters (K)')\n",
    "    plt.ylabel('Inertia')\n",
    "    plt.title('Elbow Method for Optimal K')\n",
    "    plt.show()\n",
    "else:\n",
    "    print(\"Error: Mismatch in lengths of K_range and inertia. Debug needed.\")"
   ]
  },
  {
   "cell_type": "code",
   "execution_count": 49,
   "id": "577292dc-2cc4-4cc7-a02f-24be0378ce53",
   "metadata": {},
   "outputs": [
    {
     "name": "stdout",
     "output_type": "stream",
     "text": [
      "K=3, Silhouette Score=0.12832163052917284\n",
      "K=4, Silhouette Score=0.14512224784059605\n"
     ]
    }
   ],
   "source": [
    "# Evaluate silhouette scores for K=3 and K=4\n",
    "k_values = [3, 4]\n",
    "cluster_results = {}\n",
    "for k in k_values:\n",
    "    kmeans = KMeans(n_clusters=k, random_state=42, n_init=10)\n",
    "    clusters = kmeans.fit_predict(final_dataset_pca)\n",
    "    silhouette = silhouette_score(final_dataset_pca, clusters)\n",
    "    cluster_results[k] = silhouette\n",
    "    print(f\"K={k}, Silhouette Score={silhouette}\")"
   ]
  },
  {
   "cell_type": "code",
   "execution_count": 50,
   "id": "95cfe86c-b2b5-4168-8f5c-36efa3768e1c",
   "metadata": {},
   "outputs": [
    {
     "name": "stdout",
     "output_type": "stream",
     "text": [
      "Best K=4, Final Clusters Assigned:\n",
      "[0 0 2 2 2 1 1 1 2 2]\n"
     ]
    }
   ],
   "source": [
    "# Select best K based on silhouette score\n",
    "best_k = max(cluster_results, key=cluster_results.get)\n",
    "best_kmeans = KMeans(n_clusters=best_k, random_state=42, n_init=10)\n",
    "final_clusters = best_kmeans.fit_predict(final_dataset_pca)\n",
    "print(f\"Best K={best_k}, Final Clusters Assigned:\")\n",
    "print(final_clusters[:10])"
   ]
  },
  {
   "cell_type": "code",
   "execution_count": 51,
   "id": "fd368b2b-13b7-445c-ae93-32adbc6cf3d6",
   "metadata": {},
   "outputs": [
    {
     "name": "stdout",
     "output_type": "stream",
     "text": [
      "\n",
      "Clustered Customer Segments:\n",
      "      Recency  Frequency_x  Monetary_Value  Transaction_Amount_Variability  \\\n",
      "0        26.0          6.0         16836.0                        0.670928   \n",
      "1        26.0          6.0         16836.0                        0.670928   \n",
      "2        67.0          2.0          4907.0                        0.161606   \n",
      "3        67.0          2.0          4907.0                        0.161606   \n",
      "4        67.0          2.0          4907.0                        0.161606   \n",
      "...       ...          ...             ...                             ...   \n",
      "4135     14.0          9.0         23962.0                        0.446405   \n",
      "4136     14.0          9.0         23962.0                        0.446405   \n",
      "4137     37.0          6.0          9652.0                        0.450036   \n",
      "4138     37.0          6.0          9652.0                        0.450036   \n",
      "4139     37.0          6.0          9652.0                        0.450036   \n",
      "\n",
      "      Days_Since_First_Transaction  Avg_Transaction_Gap  Is_Weekend  \\\n",
      "0                            180.0            30.000000    0.166667   \n",
      "1                            180.0            30.000000    0.166667   \n",
      "2                            104.0            52.000000    0.500000   \n",
      "3                            104.0            52.000000    0.500000   \n",
      "4                            104.0            52.000000    0.500000   \n",
      "...                            ...                  ...         ...   \n",
      "4135                         178.0            19.777778    0.222222   \n",
      "4136                         178.0            19.777778    0.222222   \n",
      "4137                         120.0            20.000000    0.166667   \n",
      "4138                         120.0            20.000000    0.166667   \n",
      "4139                         120.0            20.000000    0.166667   \n",
      "\n",
      "      Frequent_Large_Spender  Frequency_y  Satisfaction_Variability  \\\n",
      "0                        0.0            2                  0.176471   \n",
      "1                        0.0            2                  0.176471   \n",
      "2                        0.0            3                  0.435143   \n",
      "3                        0.0            3                  0.435143   \n",
      "4                        0.0            3                  0.435143   \n",
      "...                      ...          ...                       ...   \n",
      "4135                     0.0            5                  0.299942   \n",
      "4136                     0.0            5                  0.299942   \n",
      "4137                     0.0            4                  0.348005   \n",
      "4138                     0.0            4                  0.348005   \n",
      "4139                     0.0            4                  0.348005   \n",
      "\n",
      "      Monetary_Engagement Satisfaction_Category Recommendation_Category  \\\n",
      "0                8.500000             Excellent                    High   \n",
      "1                8.500000          Good Service                    High   \n",
      "2                4.333333        Unsatisfactory                     Low   \n",
      "3                4.333333          Good Service                  Medium   \n",
      "4                4.333333        Unsatisfactory                  Medium   \n",
      "...                   ...                   ...                     ...   \n",
      "4135             6.800000          Good Service                  Medium   \n",
      "4136             6.800000     Needs improvement                     Low   \n",
      "4137             4.250000     Needs improvement                    High   \n",
      "4138             4.250000          Good Service                  Medium   \n",
      "4139             4.250000        Unsatisfactory                    High   \n",
      "\n",
      "      Cluster  \n",
      "0           0  \n",
      "1           0  \n",
      "2           2  \n",
      "3           2  \n",
      "4           2  \n",
      "...       ...  \n",
      "4135        0  \n",
      "4136        0  \n",
      "4137        0  \n",
      "4138        0  \n",
      "4139        0  \n",
      "\n",
      "[4140 rows x 14 columns]\n"
     ]
    }
   ],
   "source": [
    "# Add clusters to the original dataset\n",
    "merged_df[\"Cluster\"] = final_clusters\n",
    "\n",
    "# Display the clustered dataset\n",
    "print(\"\\nClustered Customer Segments:\")\n",
    "print(merged_df)"
   ]
  }
 ],
 "metadata": {
  "kernelspec": {
   "display_name": "Python [conda env:base] *",
   "language": "python",
   "name": "conda-base-py"
  },
  "language_info": {
   "codemirror_mode": {
    "name": "ipython",
    "version": 3
   },
   "file_extension": ".py",
   "mimetype": "text/x-python",
   "name": "python",
   "nbconvert_exporter": "python",
   "pygments_lexer": "ipython3",
   "version": "3.12.7"
  }
 },
 "nbformat": 4,
 "nbformat_minor": 5
}
